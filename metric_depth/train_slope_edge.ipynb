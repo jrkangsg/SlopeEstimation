{
 "cells": [
  {
   "cell_type": "code",
   "execution_count": 3,
   "metadata": {},
   "outputs": [],
   "source": [
    "import cv2\n",
    "import os\n",
    "\n",
    "capture = cv2.VideoCapture(\"./my_test/input/15degree.avi\")\n",
    "assert capture.isOpened(), \"Cannot open the video file.\"\n",
    "\n",
    "num_frames = int(capture.get(cv2.CAP_PROP_FRAME_COUNT))\n",
    "\n",
    "# Prepare folders\n",
    "img_filename_fmt = 'dataset/images/frame3_{:09d}.jpg'\n",
    "dirname = os.path.dirname(img_filename_fmt)\n",
    "os.makedirs(dirname, exist_ok=True)\n",
    "k = 0\n",
    "for ii in range(num_frames):\n",
    "    if ii%8 == 0:\n",
    "      _, frame = capture.read()\n",
    "      cv2.imwrite(img_filename_fmt.format(k), frame)\n",
    "      k += 1\n",
    "\n",
    "capture.release()"
   ]
  },
  {
   "cell_type": "code",
   "execution_count": 8,
   "metadata": {},
   "outputs": [
    {
     "data": {
      "application/vnd.jupyter.widget-view+json": {
       "model_id": "880f0cca121c41128adeb406f871833f",
       "version_major": 2,
       "version_minor": 0
      },
      "text/plain": [
       "MultiCanvas(height=388, width=624)"
      ]
     },
     "metadata": {},
     "output_type": "display_data"
    },
    {
     "data": {
      "application/vnd.jupyter.widget-view+json": {
       "model_id": "0779db8538e047d58720fb8af439ecea",
       "version_major": 2,
       "version_minor": 0
      },
      "text/plain": [
       "HBox(children=(Label(value='Current image: dataset/images/frame2_000000000.jpg | '), Label(value=''), IntSlide…"
      ]
     },
     "metadata": {},
     "output_type": "display_data"
    },
    {
     "data": {
      "application/vnd.jupyter.widget-view+json": {
       "model_id": "1d7b75e2ad1249c68ac61462ed8965c4",
       "version_major": 2,
       "version_minor": 0
      },
      "text/plain": [
       "HBox(children=(Button(description='Prev', icon='arrow-left', style=ButtonStyle()), Button(description='Next', …"
      ]
     },
     "metadata": {},
     "output_type": "display_data"
    }
   ],
   "source": [
    "import cv2\n",
    "import os\n",
    "\n",
    "from collections import OrderedDict\n",
    "from ipywidgets import IntSlider, Label, Button, HBox\n",
    "from ipycanvas import MultiCanvas, hold_canvas\n",
    "\n",
    "thickness = 3\n",
    "y_ratio = 0.5     # percentile of y-position from the top\n",
    "\n",
    "# Input images\n",
    "img_filename_fmt = 'dataset/images/frame2_{:09d}.jpg'\n",
    "ann_filename = 'dataset/annotation2.txt'\n",
    "ann_dict = OrderedDict()\n",
    "\n",
    "num_frames = len(os.listdir(os.path.dirname(img_filename_fmt)))\n",
    "\n",
    "cur_index = 0\n",
    "height, width = cv2.imread(img_filename_fmt.format(cur_index)).shape[:2]\n",
    "y_value = int(height * y_ratio)\n",
    "\n",
    "def set_image():\n",
    "    image = cv2.imread(img_filename_fmt.format(cur_index))\n",
    "    image = cv2.cvtColor(image, cv2.COLOR_BGR2RGB)\n",
    "    image[y_value-thickness//2:y_value+thickness//2] = (255, 0, 0)\n",
    "\n",
    "    canvas[0].clear()\n",
    "    canvas[0].put_image_data(image, 0, 0)\n",
    "    canvas[0].flush()\n",
    "\n",
    "    pos = ann_dict.get(img_filename_fmt.format(cur_index))\n",
    "    if pos is not None:\n",
    "        handle_mouse_down(pos[0], pos[1])\n",
    "\n",
    "    cur_fname.value = 'Current image: {:s} | '.format(img_filename_fmt.format(cur_index))\n",
    "\n",
    "def handle_mouse_move(xpos, ypos):\n",
    "    with hold_canvas():\n",
    "        canvas[1].clear()  # Clear the old animation step\n",
    "        canvas[1].fill_style = \"yellow\"\n",
    "        canvas[1].fill_circle(xpos, y_value, 5)  # Draw the new frame\n",
    "\n",
    "def handle_mouse_down(xpos, ypos):\n",
    "    with hold_canvas():\n",
    "        canvas[2].clear()\n",
    "        canvas[2].fill_style = \"green\"\n",
    "        canvas[2].fill_circle(xpos, y_value, 5)  # Draw the new frame\n",
    "\n",
    "    cur_pos.value = \"({:f}, {:f}) \".format(xpos, y_value)\n",
    "    ann_dict[img_filename_fmt.format(cur_index)] = (xpos, y_value)\n",
    "\n",
    "def handle_slider_change(change):\n",
    "    global y_value\n",
    "    y_value = change.new\n",
    "    set_image()\n",
    "    canvas[1].clear()\n",
    "    canvas[2].clear()\n",
    "\n",
    "def handle_save_button(b):\n",
    "    with open(ann_filename, 'w') as f:\n",
    "        for k, v in ann_dict.items():\n",
    "            f.write(\"{:s}\\t{:f}\\t{:f}\\n\".format(k, v[0], v[1]))\n",
    "\n",
    "def handle_prev_button(b):\n",
    "    global cur_index\n",
    "    cur_index = max(0, cur_index - 1)\n",
    "    canvas.clear()\n",
    "    set_image()\n",
    "\n",
    "def handle_next_button(b):\n",
    "    global cur_index\n",
    "    cur_index = min(num_frames - 1, cur_index + 1)\n",
    "    canvas.clear()\n",
    "    set_image()\n",
    "\n",
    "canvas = MultiCanvas(3, width=width, height=height)\n",
    "cur_fname = Label(value='', disabled=False)\n",
    "cur_pos = Label(value='', disabled=True)\n",
    "yslider = IntSlider(description=\"Y-bar: \", stype={'description_width': 'initial'}, value=y_value, min=1, max=height-2, step=1)\n",
    "prev_btn = Button(description='Prev', icon='arrow-left')\n",
    "next_btn = Button(description='Next', icon='arrow-right')\n",
    "save_btn = Button(description='Save labels', icon='check')\n",
    "\n",
    "set_image()\n",
    "canvas.on_mouse_move(handle_mouse_move)\n",
    "canvas.on_mouse_down(handle_mouse_down)\n",
    "yslider.observe(handle_slider_change, names='value')\n",
    "\n",
    "prev_btn.on_click(handle_prev_button)\n",
    "next_btn.on_click(handle_next_button)\n",
    "save_btn.on_click(handle_save_button)\n",
    "\n",
    "display(canvas, HBox([cur_fname, cur_pos, yslider]), HBox([prev_btn, next_btn, save_btn]))\n"
   ]
  },
  {
   "cell_type": "code",
   "execution_count": null,
   "metadata": {},
   "outputs": [],
   "source": []
  }
 ],
 "metadata": {
  "kernelspec": {
   "display_name": "Python 3",
   "language": "python",
   "name": "python3"
  },
  "language_info": {
   "codemirror_mode": {
    "name": "ipython",
    "version": 3
   },
   "file_extension": ".py",
   "mimetype": "text/x-python",
   "name": "python",
   "nbconvert_exporter": "python",
   "pygments_lexer": "ipython3",
   "version": "3.8.10"
  }
 },
 "nbformat": 4,
 "nbformat_minor": 2
}
